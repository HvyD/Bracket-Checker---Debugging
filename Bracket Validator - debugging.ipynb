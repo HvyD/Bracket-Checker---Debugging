{
 "cells": [
  {
   "cell_type": "markdown",
   "metadata": {},
   "source": [
    "### Checks Bracket Symetry"
   ]
  },
  {
   "cell_type": "code",
   "execution_count": 7,
   "metadata": {},
   "outputs": [],
   "source": [
    "import unittest\n",
    "\n",
    "def is_valid(code):\n",
    "    openers_closers = {\n",
    "        '(' : ')',\n",
    "        '{' : '}',\n",
    "        '[' : ']',\n",
    "    }\n",
    "    openers = set(openers_closers.keys())\n",
    "    closers = set(openers_closers.values())\n",
    "\n",
    "    openers_check = []\n",
    "    for char in code:\n",
    "        if char in openers:\n",
    "            openers_check.append(char)\n",
    "        elif char in closers:\n",
    "            if not openers_check:\n",
    "                return False\n",
    "            else:\n",
    "                last_unclosed_opener = openers_check.pop()\n",
    "                if not openers_closers[last_unclosed_opener] == char:\n",
    "                    return False\n",
    "\n",
    "    return openers_check == []"
   ]
  },
  {
   "cell_type": "markdown",
   "metadata": {},
   "source": [
    "### Tests"
   ]
  },
  {
   "cell_type": "code",
   "execution_count": 8,
   "metadata": {},
   "outputs": [
    {
     "name": "stderr",
     "output_type": "stream",
     "text": [
      "test_empty_string (__main__.Test) ... ok\n",
      "test_extra_closer (__main__.Test) ... ok\n",
      "test_interleaved_openers_and_closers (__main__.Test) ... ok\n",
      "test_mismatched_opener_and_closer (__main__.Test) ... ok\n",
      "test_missing_closer (__main__.Test) ... ok\n",
      "test_valid_longer_code (__main__.Test) ... ok\n",
      "test_valid_short_code (__main__.Test) ... ok\n",
      "\n",
      "----------------------------------------------------------------------\n",
      "Ran 7 tests in 0.022s\n",
      "\n",
      "OK\n"
     ]
    },
    {
     "data": {
      "text/plain": [
       "<unittest.main.TestProgram at 0x7f72300d3198>"
      ]
     },
     "execution_count": 8,
     "metadata": {},
     "output_type": "execute_result"
    }
   ],
   "source": [
    "class Test(unittest.TestCase):\n",
    "\n",
    "    def test_valid_short_code(self):\n",
    "        result = is_valid('()')\n",
    "        self.assertTrue(result)\n",
    "\n",
    "    def test_valid_longer_code(self):\n",
    "        result = is_valid('([]{[]})[]{{}()}')\n",
    "        self.assertTrue(result)\n",
    "\n",
    "    def test_interleaved_openers_and_closers(self):\n",
    "        result = is_valid('([)]')\n",
    "        self.assertFalse(result)\n",
    "\n",
    "    def test_mismatched_opener_and_closer(self):\n",
    "        result = is_valid('([][]}')\n",
    "        self.assertFalse(result)\n",
    "\n",
    "    def test_missing_closer(self):\n",
    "        result = is_valid('[[]()')\n",
    "        self.assertFalse(result)\n",
    "\n",
    "    def test_extra_closer(self):\n",
    "        result = is_valid('[[]]())')\n",
    "        self.assertFalse(result)\n",
    "\n",
    "    def test_empty_string(self):\n",
    "        result = is_valid('')\n",
    "        self.assertTrue(result)\n",
    "\n",
    "\n",
    "unittest.main(argv=['ignored', '-v'], exit=False)"
   ]
  },
  {
   "cell_type": "code",
   "execution_count": null,
   "metadata": {},
   "outputs": [],
   "source": []
  }
 ],
 "metadata": {
  "kernelspec": {
   "display_name": "Python 3",
   "language": "python",
   "name": "python3"
  },
  "language_info": {
   "codemirror_mode": {
    "name": "ipython",
    "version": 3
   },
   "file_extension": ".py",
   "mimetype": "text/x-python",
   "name": "python",
   "nbconvert_exporter": "python",
   "pygments_lexer": "ipython3",
   "version": "3.7.3"
  }
 },
 "nbformat": 4,
 "nbformat_minor": 2
}
